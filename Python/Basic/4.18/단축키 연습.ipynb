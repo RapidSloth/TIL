{
 "cells": [
  {
   "cell_type": "code",
   "execution_count": 1,
   "id": "693c11e7-93ad-42a4-ab8b-524ded910dd0",
   "metadata": {},
   "outputs": [
    {
     "name": "stdout",
     "output_type": "stream",
     "text": [
      "3\n"
     ]
    }
   ],
   "source": [
    "a = 3\n",
    "print(a)\n",
    "\n",
    "# cell의 실행 : Shift + Enter\n",
    "# Edit mode -> ESC -> Command mode -> Enter -> Edit mode\n",
    "\n",
    "# Cell의 복사 / 붙여넣기 / 오려내기 : C / V / X (Command mode)\n",
    "# 위 / 아래에 Cell 추가 : A(bove) / B(elow)\n",
    "# Cell의 삭제 : ESC -> DD(elete)\n",
    "# 되돌리기 : ESC -> Z"
   ]
  },
  {
   "cell_type": "code",
   "execution_count": null,
   "id": "faddccdb-4c5d-47c9-a484-43b6a2b816e4",
   "metadata": {},
   "outputs": [],
   "source": [
    "pr # Tab\n",
    "print # Shift + Tab"
   ]
  },
  {
   "cell_type": "code",
   "execution_count": 3,
   "id": "87f2b7dd-5c19-4460-89b8-37aad12e8a73",
   "metadata": {},
   "outputs": [
    {
     "data": {
      "text/plain": [
       "'/Users/ksy/Downloads/인공지능 파이썬 Basic - 보강 학습/실습 파일'"
      ]
     },
     "execution_count": 3,
     "metadata": {},
     "output_type": "execute_result"
    }
   ],
   "source": [
    "import os\n",
    "\n",
    "os.getcwd() # Current working directory"
   ]
  },
  {
   "cell_type": "code",
   "execution_count": null,
   "id": "17465dd6-66d8-4d00-ae83-422f53d14721",
   "metadata": {},
   "outputs": [],
   "source": []
  }
 ],
 "metadata": {
  "kernelspec": {
   "display_name": "Python 3 (ipykernel)",
   "language": "python",
   "name": "python3"
  },
  "language_info": {
   "codemirror_mode": {
    "name": "ipython",
    "version": 3
   },
   "file_extension": ".py",
   "mimetype": "text/x-python",
   "name": "python",
   "nbconvert_exporter": "python",
   "pygments_lexer": "ipython3",
   "version": "3.11.7"
  }
 },
 "nbformat": 4,
 "nbformat_minor": 5
}
